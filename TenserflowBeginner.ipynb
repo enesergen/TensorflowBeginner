{
  "nbformat": 4,
  "nbformat_minor": 0,
  "metadata": {
    "colab": {
      "provenance": [],
      "authorship_tag": "ABX9TyNahJCkIaf7LhPqhnfuhZiP",
      "include_colab_link": true
    },
    "kernelspec": {
      "name": "python3",
      "display_name": "Python 3"
    },
    "language_info": {
      "name": "python"
    }
  },
  "cells": [
    {
      "cell_type": "markdown",
      "metadata": {
        "id": "view-in-github",
        "colab_type": "text"
      },
      "source": [
        "<a href=\"https://colab.research.google.com/github/enesergen/TenserflowBeginner/blob/main/TenserflowBeginner.ipynb\" target=\"_parent\"><img src=\"https://colab.research.google.com/assets/colab-badge.svg\" alt=\"Open In Colab\"/></a>"
      ]
    },
    {
      "cell_type": "code",
      "execution_count": 1,
      "metadata": {
        "id": "CahfAKDAAscB"
      },
      "outputs": [],
      "source": [
        "!pip install -q sklearn"
      ]
    },
    {
      "cell_type": "code",
      "source": [
        "%tensorflow_version 2.x #bu satır notebook için gerekli local cihazlarda gerekli değil"
      ],
      "metadata": {
        "colab": {
          "base_uri": "https://localhost:8080/"
        },
        "id": "XGTAvUtRBxh2",
        "outputId": "6b7071cd-489f-4843-87b3-016c0dd3f5ae"
      },
      "execution_count": 2,
      "outputs": [
        {
          "output_type": "stream",
          "name": "stdout",
          "text": [
            "Colab only includes TensorFlow 2.x; %tensorflow_version has no effect.\n"
          ]
        }
      ]
    },
    {
      "cell_type": "code",
      "source": [
        "from __future__ import absolute_import,division,print_function,unicode_literals\n",
        "\n",
        "import numpy as np\n",
        "import pandas as pd\n",
        "import matplotlib.pyplot as plt\n",
        "from IPython.display import clear_output #yanlızca notebook için\n",
        "from six.moves import urllib"
      ],
      "metadata": {
        "id": "3e1zhEY9ByzT"
      },
      "execution_count": 3,
      "outputs": []
    },
    {
      "cell_type": "code",
      "source": [
        "import tensorflow as tf\n",
        "import tensorflow.compat.v2.feature_column as fc #lineer regression algoritması ve modeli için kullanılacak"
      ],
      "metadata": {
        "id": "Pxn73XfqB0IL"
      },
      "execution_count": 4,
      "outputs": []
    },
    {
      "cell_type": "code",
      "source": [
        "dftest=pd.read_csv(\"https://raw.githubusercontent.com/enesergen/TenserflowBeginner/main/test.csv\")\n",
        "dftrain=pd.read_csv(\"https://raw.githubusercontent.com/datasciencedojo/datasets/master/titanic.csv\")\n",
        "y_train=dftrain.pop(\"Survived\")# burada y_train survived kolonu verilerini aldı ve dftrain de kendini o kolonu silerek güncelledi\n",
        "dftrain.pop(\"Name\")\n",
        "dftrain.pop(\"Ticket\")\n",
        "dftrain.pop(\"PassengerId\")\n",
        "dftest.pop(\"Name\")\n",
        "dftest.pop(\"Ticket\")\n",
        "dftest.pop(\"PassengerId\")"
      ],
      "metadata": {
        "id": "WVcrsBFOB2vN"
      },
      "execution_count": null,
      "outputs": []
    },
    {
      "cell_type": "code",
      "source": [
        "CATEGORICAL_COLUMNS=[\"Sex\",\"Cabin\",\"Embarked\"]\n",
        "NUMERICAL_COLUMNS=[\"Pclass\",\"Age\",\"SibSp\",\"Parch\",\"Fare\",]\n",
        "\n",
        "feature_columns=[]\n",
        "for feature_name in CATEGORICAL_COLUMNS:\n",
        "  vocabulary=dftrain[feature_name].unique()\n",
        "  feature_columns.append(tf.feature_column.categorical_column_with_vocabulary_list(feature_name,vocabulary))\n",
        "\n",
        "for feature_name in NUMERICAL_COLUMNS:\n",
        "  feature_columns.append(tf.feature_column.numeric_column(feature_name,dtype=tf.float32))\n",
        "\n"
      ],
      "metadata": {
        "id": "RgXolh3gCvms"
      },
      "execution_count": 12,
      "outputs": []
    }
  ]
}